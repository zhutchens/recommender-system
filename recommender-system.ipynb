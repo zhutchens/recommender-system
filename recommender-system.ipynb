{
 "cells": [
  {
   "cell_type": "code",
   "execution_count": 75,
   "metadata": {},
   "outputs": [],
   "source": [
    "import pandas as pd\n",
    "import seaborn as sns\n",
    "import matplotlib.pyplot as plt"
   ]
  },
  {
   "cell_type": "markdown",
   "metadata": {},
   "source": [
    "<h3>Preprocessing</h3>"
   ]
  },
  {
   "cell_type": "code",
   "execution_count": 76,
   "metadata": {},
   "outputs": [
    {
     "data": {
      "text/html": [
       "<div>\n",
       "<style scoped>\n",
       "    .dataframe tbody tr th:only-of-type {\n",
       "        vertical-align: middle;\n",
       "    }\n",
       "\n",
       "    .dataframe tbody tr th {\n",
       "        vertical-align: top;\n",
       "    }\n",
       "\n",
       "    .dataframe thead th {\n",
       "        text-align: right;\n",
       "    }\n",
       "</style>\n",
       "<table border=\"1\" class=\"dataframe\">\n",
       "  <thead>\n",
       "    <tr style=\"text-align: right;\">\n",
       "      <th></th>\n",
       "      <th>movie</th>\n",
       "      <th>genre</th>\n",
       "      <th>runtime</th>\n",
       "      <th>certificate</th>\n",
       "      <th>rating</th>\n",
       "      <th>stars</th>\n",
       "      <th>description</th>\n",
       "      <th>votes</th>\n",
       "      <th>director</th>\n",
       "    </tr>\n",
       "  </thead>\n",
       "  <tbody>\n",
       "    <tr>\n",
       "      <th>0</th>\n",
       "      <td>The Witcher</td>\n",
       "      <td>Action, Adventure, Drama</td>\n",
       "      <td>60 min</td>\n",
       "      <td>A</td>\n",
       "      <td>8.1</td>\n",
       "      <td>['Henry Cavill, ', 'Freya Allan, ', 'Anya Chal...</td>\n",
       "      <td>Geralt of Rivia, a solitary monster hunter, st...</td>\n",
       "      <td>5,39,085</td>\n",
       "      <td>NaN</td>\n",
       "    </tr>\n",
       "    <tr>\n",
       "      <th>1</th>\n",
       "      <td>Mission: Impossible - Dead Reckoning Part One</td>\n",
       "      <td>Action, Adventure, Thriller</td>\n",
       "      <td>163 min</td>\n",
       "      <td>UA</td>\n",
       "      <td>8.0</td>\n",
       "      <td>['Tom Cruise, ', 'Hayley Atwell, ', 'Ving Rham...</td>\n",
       "      <td>Ethan Hunt and his IMF team must track down a ...</td>\n",
       "      <td>1,06,759</td>\n",
       "      <td>['Christopher McQuarrie']</td>\n",
       "    </tr>\n",
       "    <tr>\n",
       "      <th>2</th>\n",
       "      <td>Sound of Freedom</td>\n",
       "      <td>Action, Biography, Drama</td>\n",
       "      <td>131 min</td>\n",
       "      <td>PG-13</td>\n",
       "      <td>7.9</td>\n",
       "      <td>['Jim Caviezel, ', 'Mira Sorvino, ', 'Bill Cam...</td>\n",
       "      <td>The incredible true story of a former governme...</td>\n",
       "      <td>41,808</td>\n",
       "      <td>['Alejandro Monteverde']</td>\n",
       "    </tr>\n",
       "    <tr>\n",
       "      <th>3</th>\n",
       "      <td>Secret Invasion</td>\n",
       "      <td>Action, Adventure, Drama</td>\n",
       "      <td>47 min</td>\n",
       "      <td>UA 16+</td>\n",
       "      <td>6.2</td>\n",
       "      <td>['Samuel L. Jackson, ', 'Emilia Clarke, ', 'Do...</td>\n",
       "      <td>Fury and Talos try to stop the Skrulls who hav...</td>\n",
       "      <td>40,536</td>\n",
       "      <td>NaN</td>\n",
       "    </tr>\n",
       "    <tr>\n",
       "      <th>4</th>\n",
       "      <td>Special Ops: Lioness</td>\n",
       "      <td>Action, Drama, Thriller</td>\n",
       "      <td>NaN</td>\n",
       "      <td>NaN</td>\n",
       "      <td>7.5</td>\n",
       "      <td>['Zoe Saldana, ', 'Laysla De Oliveira, ', 'Dav...</td>\n",
       "      <td>Joe attempts to balance her personal and profe...</td>\n",
       "      <td>3,203</td>\n",
       "      <td>NaN</td>\n",
       "    </tr>\n",
       "    <tr>\n",
       "      <th>...</th>\n",
       "      <td>...</td>\n",
       "      <td>...</td>\n",
       "      <td>...</td>\n",
       "      <td>...</td>\n",
       "      <td>...</td>\n",
       "      <td>...</td>\n",
       "      <td>...</td>\n",
       "      <td>...</td>\n",
       "      <td>...</td>\n",
       "    </tr>\n",
       "    <tr>\n",
       "      <th>129886</th>\n",
       "      <td>Chocatos</td>\n",
       "      <td>Short, Drama, Family</td>\n",
       "      <td>10 min</td>\n",
       "      <td>NaN</td>\n",
       "      <td>NaN</td>\n",
       "      <td>NaN</td>\n",
       "      <td>Add a Plot\\n</td>\n",
       "      <td>NaN</td>\n",
       "      <td>['Diego Al Romero']</td>\n",
       "    </tr>\n",
       "    <tr>\n",
       "      <th>129887</th>\n",
       "      <td>Song of the Caballero</td>\n",
       "      <td>Drama, Western</td>\n",
       "      <td>73 min</td>\n",
       "      <td>NaN</td>\n",
       "      <td>NaN</td>\n",
       "      <td>['Ken Maynard, ', 'Doris Hill, ', 'Francis For...</td>\n",
       "      <td>After El Lobo robs Don Jose he gives one of th...</td>\n",
       "      <td>NaN</td>\n",
       "      <td>['Harry Joe Brown']</td>\n",
       "    </tr>\n",
       "    <tr>\n",
       "      <th>129888</th>\n",
       "      <td>The Flaming Forties</td>\n",
       "      <td>Western</td>\n",
       "      <td>60 min</td>\n",
       "      <td>NaN</td>\n",
       "      <td>NaN</td>\n",
       "      <td>['Harry Carey, ', 'William Bailey, ', 'Jacquel...</td>\n",
       "      <td>A young cowhand befriends a disreputable gambl...</td>\n",
       "      <td>NaN</td>\n",
       "      <td>['Tom Forman']</td>\n",
       "    </tr>\n",
       "    <tr>\n",
       "      <th>129889</th>\n",
       "      <td>The Girl and the Sheriff</td>\n",
       "      <td>Short, Western</td>\n",
       "      <td>NaN</td>\n",
       "      <td>NaN</td>\n",
       "      <td>NaN</td>\n",
       "      <td>['Betty Keller, ', 'George Field, ', 'Lee Mora...</td>\n",
       "      <td>Bob Warren, sheriff of Grass County, Cal., and...</td>\n",
       "      <td>NaN</td>\n",
       "      <td>['Al Christie']</td>\n",
       "    </tr>\n",
       "    <tr>\n",
       "      <th>129890</th>\n",
       "      <td>The End of the Trail</td>\n",
       "      <td>Short, Western</td>\n",
       "      <td>NaN</td>\n",
       "      <td>NaN</td>\n",
       "      <td>NaN</td>\n",
       "      <td>NaN</td>\n",
       "      <td>It was only a lovers' quarrel, and had Marion ...</td>\n",
       "      <td>NaN</td>\n",
       "      <td>['Milton J. Fahrney']</td>\n",
       "    </tr>\n",
       "  </tbody>\n",
       "</table>\n",
       "<p>129891 rows × 9 columns</p>\n",
       "</div>"
      ],
      "text/plain": [
       "                                                movie  \\\n",
       "0                                         The Witcher   \n",
       "1       Mission: Impossible - Dead Reckoning Part One   \n",
       "2                                    Sound of Freedom   \n",
       "3                                     Secret Invasion   \n",
       "4                                Special Ops: Lioness   \n",
       "...                                               ...   \n",
       "129886                                       Chocatos   \n",
       "129887                          Song of the Caballero   \n",
       "129888                            The Flaming Forties   \n",
       "129889                       The Girl and the Sheriff   \n",
       "129890                           The End of the Trail   \n",
       "\n",
       "                                          genre  runtime certificate  rating  \\\n",
       "0          Action, Adventure, Drama               60 min           A     8.1   \n",
       "1       Action, Adventure, Thriller              163 min          UA     8.0   \n",
       "2          Action, Biography, Drama              131 min       PG-13     7.9   \n",
       "3          Action, Adventure, Drama               47 min      UA 16+     6.2   \n",
       "4           Action, Drama, Thriller                  NaN         NaN     7.5   \n",
       "...                                         ...      ...         ...     ...   \n",
       "129886         Short, Drama, Family               10 min         NaN     NaN   \n",
       "129887               Drama, Western               73 min         NaN     NaN   \n",
       "129888                      Western               60 min         NaN     NaN   \n",
       "129889               Short, Western                  NaN         NaN     NaN   \n",
       "129890               Short, Western                  NaN         NaN     NaN   \n",
       "\n",
       "                                                    stars  \\\n",
       "0       ['Henry Cavill, ', 'Freya Allan, ', 'Anya Chal...   \n",
       "1       ['Tom Cruise, ', 'Hayley Atwell, ', 'Ving Rham...   \n",
       "2       ['Jim Caviezel, ', 'Mira Sorvino, ', 'Bill Cam...   \n",
       "3       ['Samuel L. Jackson, ', 'Emilia Clarke, ', 'Do...   \n",
       "4       ['Zoe Saldana, ', 'Laysla De Oliveira, ', 'Dav...   \n",
       "...                                                   ...   \n",
       "129886                                                NaN   \n",
       "129887  ['Ken Maynard, ', 'Doris Hill, ', 'Francis For...   \n",
       "129888  ['Harry Carey, ', 'William Bailey, ', 'Jacquel...   \n",
       "129889  ['Betty Keller, ', 'George Field, ', 'Lee Mora...   \n",
       "129890                                                NaN   \n",
       "\n",
       "                                              description     votes  \\\n",
       "0       Geralt of Rivia, a solitary monster hunter, st...  5,39,085   \n",
       "1       Ethan Hunt and his IMF team must track down a ...  1,06,759   \n",
       "2       The incredible true story of a former governme...    41,808   \n",
       "3       Fury and Talos try to stop the Skrulls who hav...    40,536   \n",
       "4       Joe attempts to balance her personal and profe...     3,203   \n",
       "...                                                   ...       ...   \n",
       "129886                                       Add a Plot\\n       NaN   \n",
       "129887  After El Lobo robs Don Jose he gives one of th...       NaN   \n",
       "129888  A young cowhand befriends a disreputable gambl...       NaN   \n",
       "129889  Bob Warren, sheriff of Grass County, Cal., and...       NaN   \n",
       "129890  It was only a lovers' quarrel, and had Marion ...       NaN   \n",
       "\n",
       "                         director  \n",
       "0                             NaN  \n",
       "1       ['Christopher McQuarrie']  \n",
       "2        ['Alejandro Monteverde']  \n",
       "3                             NaN  \n",
       "4                             NaN  \n",
       "...                           ...  \n",
       "129886        ['Diego Al Romero']  \n",
       "129887        ['Harry Joe Brown']  \n",
       "129888             ['Tom Forman']  \n",
       "129889            ['Al Christie']  \n",
       "129890      ['Milton J. Fahrney']  \n",
       "\n",
       "[129891 rows x 9 columns]"
      ]
     },
     "execution_count": 76,
     "metadata": {},
     "output_type": "execute_result"
    }
   ],
   "source": [
    "imbd_data = pd.read_csv('data/IMBD.csv')\n",
    "imbd_data"
   ]
  },
  {
   "cell_type": "code",
   "execution_count": 77,
   "metadata": {},
   "outputs": [
    {
     "data": {
      "text/plain": [
       "array(['A', 'UA', 'PG-13', 'UA 16+', nan, 'R', 'Not Rated', '16+', '18',\n",
       "       '18+', 'U', 'PG', 'UA 13+', '16', '7', 'U/A', '13', '15+', '12+',\n",
       "       'U/A 16+', '(Banned)', 'UA 7+', '12', 'All', 'G', 'Unrated',\n",
       "       'NC-17', 'Approved', 'M/PG', 'GP', '15', '7+', 'U/A 7+', 'TV-14',\n",
       "       'M', '3+', '13+', 'Passed', 'TV-PG', 'X'], dtype=object)"
      ]
     },
     "execution_count": 77,
     "metadata": {},
     "output_type": "execute_result"
    }
   ],
   "source": [
    "imbd_data['certificate'].unique()"
   ]
  },
  {
   "cell_type": "code",
   "execution_count": 78,
   "metadata": {},
   "outputs": [
    {
     "data": {
      "text/html": [
       "<div>\n",
       "<style scoped>\n",
       "    .dataframe tbody tr th:only-of-type {\n",
       "        vertical-align: middle;\n",
       "    }\n",
       "\n",
       "    .dataframe tbody tr th {\n",
       "        vertical-align: top;\n",
       "    }\n",
       "\n",
       "    .dataframe thead th {\n",
       "        text-align: right;\n",
       "    }\n",
       "</style>\n",
       "<table border=\"1\" class=\"dataframe\">\n",
       "  <thead>\n",
       "    <tr style=\"text-align: right;\">\n",
       "      <th></th>\n",
       "      <th>movie</th>\n",
       "      <th>genre</th>\n",
       "      <th>rating</th>\n",
       "      <th>votes</th>\n",
       "    </tr>\n",
       "  </thead>\n",
       "  <tbody>\n",
       "    <tr>\n",
       "      <th>0</th>\n",
       "      <td>The Witcher</td>\n",
       "      <td>Action, Adventure, Drama</td>\n",
       "      <td>8.1</td>\n",
       "      <td>5,39,085</td>\n",
       "    </tr>\n",
       "    <tr>\n",
       "      <th>1</th>\n",
       "      <td>Mission: Impossible - Dead Reckoning Part One</td>\n",
       "      <td>Action, Adventure, Thriller</td>\n",
       "      <td>8.0</td>\n",
       "      <td>1,06,759</td>\n",
       "    </tr>\n",
       "    <tr>\n",
       "      <th>2</th>\n",
       "      <td>Sound of Freedom</td>\n",
       "      <td>Action, Biography, Drama</td>\n",
       "      <td>7.9</td>\n",
       "      <td>41,808</td>\n",
       "    </tr>\n",
       "    <tr>\n",
       "      <th>3</th>\n",
       "      <td>Secret Invasion</td>\n",
       "      <td>Action, Adventure, Drama</td>\n",
       "      <td>6.2</td>\n",
       "      <td>40,536</td>\n",
       "    </tr>\n",
       "    <tr>\n",
       "      <th>4</th>\n",
       "      <td>Special Ops: Lioness</td>\n",
       "      <td>Action, Drama, Thriller</td>\n",
       "      <td>7.5</td>\n",
       "      <td>3,203</td>\n",
       "    </tr>\n",
       "    <tr>\n",
       "      <th>...</th>\n",
       "      <td>...</td>\n",
       "      <td>...</td>\n",
       "      <td>...</td>\n",
       "      <td>...</td>\n",
       "    </tr>\n",
       "    <tr>\n",
       "      <th>129886</th>\n",
       "      <td>Chocatos</td>\n",
       "      <td>Short, Drama, Family</td>\n",
       "      <td>NaN</td>\n",
       "      <td>NaN</td>\n",
       "    </tr>\n",
       "    <tr>\n",
       "      <th>129887</th>\n",
       "      <td>Song of the Caballero</td>\n",
       "      <td>Drama, Western</td>\n",
       "      <td>NaN</td>\n",
       "      <td>NaN</td>\n",
       "    </tr>\n",
       "    <tr>\n",
       "      <th>129888</th>\n",
       "      <td>The Flaming Forties</td>\n",
       "      <td>Western</td>\n",
       "      <td>NaN</td>\n",
       "      <td>NaN</td>\n",
       "    </tr>\n",
       "    <tr>\n",
       "      <th>129889</th>\n",
       "      <td>The Girl and the Sheriff</td>\n",
       "      <td>Short, Western</td>\n",
       "      <td>NaN</td>\n",
       "      <td>NaN</td>\n",
       "    </tr>\n",
       "    <tr>\n",
       "      <th>129890</th>\n",
       "      <td>The End of the Trail</td>\n",
       "      <td>Short, Western</td>\n",
       "      <td>NaN</td>\n",
       "      <td>NaN</td>\n",
       "    </tr>\n",
       "  </tbody>\n",
       "</table>\n",
       "<p>129891 rows × 4 columns</p>\n",
       "</div>"
      ],
      "text/plain": [
       "                                                movie  \\\n",
       "0                                         The Witcher   \n",
       "1       Mission: Impossible - Dead Reckoning Part One   \n",
       "2                                    Sound of Freedom   \n",
       "3                                     Secret Invasion   \n",
       "4                                Special Ops: Lioness   \n",
       "...                                               ...   \n",
       "129886                                       Chocatos   \n",
       "129887                          Song of the Caballero   \n",
       "129888                            The Flaming Forties   \n",
       "129889                       The Girl and the Sheriff   \n",
       "129890                           The End of the Trail   \n",
       "\n",
       "                                          genre  rating     votes  \n",
       "0          Action, Adventure, Drama                 8.1  5,39,085  \n",
       "1       Action, Adventure, Thriller                 8.0  1,06,759  \n",
       "2          Action, Biography, Drama                 7.9    41,808  \n",
       "3          Action, Adventure, Drama                 6.2    40,536  \n",
       "4           Action, Drama, Thriller                 7.5     3,203  \n",
       "...                                         ...     ...       ...  \n",
       "129886         Short, Drama, Family                 NaN       NaN  \n",
       "129887               Drama, Western                 NaN       NaN  \n",
       "129888                      Western                 NaN       NaN  \n",
       "129889               Short, Western                 NaN       NaN  \n",
       "129890               Short, Western                 NaN       NaN  \n",
       "\n",
       "[129891 rows x 4 columns]"
      ]
     },
     "execution_count": 78,
     "metadata": {},
     "output_type": "execute_result"
    }
   ],
   "source": [
    "imbd_data.drop(columns = ['stars', 'runtime', 'description', 'director', 'certificate'], inplace = True)\n",
    "imbd_data"
   ]
  },
  {
   "cell_type": "code",
   "execution_count": 79,
   "metadata": {},
   "outputs": [
    {
     "data": {
      "text/plain": [
       "array(['Action, Adventure, Drama            ',\n",
       "       'Action, Adventure, Thriller            ',\n",
       "       'Action, Biography, Drama            ', ...,\n",
       "       'Western, Short, Music            ',\n",
       "       'Drama, Western, Musical            ',\n",
       "       'Sport, Western            '], dtype=object)"
      ]
     },
     "execution_count": 79,
     "metadata": {},
     "output_type": "execute_result"
    }
   ],
   "source": [
    "imbd_data['genre'].unique()"
   ]
  },
  {
   "cell_type": "code",
   "execution_count": 80,
   "metadata": {},
   "outputs": [
    {
     "data": {
      "text/plain": [
       "Index(['movie', 'genre', 'rating', 'votes'], dtype='object')"
      ]
     },
     "execution_count": 80,
     "metadata": {},
     "output_type": "execute_result"
    }
   ],
   "source": [
    "imbd_data.columns"
   ]
  },
  {
   "cell_type": "code",
   "execution_count": 81,
   "metadata": {},
   "outputs": [
    {
     "data": {
      "text/plain": [
       "movie     False\n",
       "genre     False\n",
       "rating     True\n",
       "votes      True\n",
       "dtype: bool"
      ]
     },
     "execution_count": 81,
     "metadata": {},
     "output_type": "execute_result"
    }
   ],
   "source": [
    "imbd_data.isna().any()"
   ]
  },
  {
   "cell_type": "code",
   "execution_count": 82,
   "metadata": {},
   "outputs": [
    {
     "data": {
      "text/plain": [
       "(114381, 4)"
      ]
     },
     "execution_count": 82,
     "metadata": {},
     "output_type": "execute_result"
    }
   ],
   "source": [
    "imbd_data.dropna(inplace = True)\n",
    "imbd_data.shape"
   ]
  },
  {
   "cell_type": "code",
   "execution_count": 83,
   "metadata": {},
   "outputs": [
    {
     "data": {
      "text/plain": [
       "Index(['movie', 'genre', 'rating', 'votes'], dtype='object')"
      ]
     },
     "execution_count": 83,
     "metadata": {},
     "output_type": "execute_result"
    }
   ],
   "source": [
    "imbd_data.columns"
   ]
  },
  {
   "cell_type": "code",
   "execution_count": 84,
   "metadata": {},
   "outputs": [],
   "source": [
    "imbd_data.columns = ['name', 'genre', 'rating', 'votes']"
   ]
  }
 ],
 "metadata": {
  "kernelspec": {
   "display_name": "venv",
   "language": "python",
   "name": "python3"
  },
  "language_info": {
   "codemirror_mode": {
    "name": "ipython",
    "version": 3
   },
   "file_extension": ".py",
   "mimetype": "text/x-python",
   "name": "python",
   "nbconvert_exporter": "python",
   "pygments_lexer": "ipython3",
   "version": "3.11.7"
  }
 },
 "nbformat": 4,
 "nbformat_minor": 2
}
